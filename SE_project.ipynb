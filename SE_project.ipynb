{
 "cells": [
  {
   "cell_type": "markdown",
   "metadata": {},
   "source": [
    "## Predicting eye gaze using CNN"
   ]
  },
  {
   "cell_type": "markdown",
   "metadata": {},
   "source": [
    "Importing image processing and pytorch modules"
   ]
  },
  {
   "cell_type": "code",
   "execution_count": 3,
   "metadata": {},
   "outputs": [],
   "source": [
    "import cv2\n",
    "import matplotlib.pyplot as plt\n",
    "import math\n",
    "import numpy as np\n",
    "import torch\n",
    "from torch import nn\n",
    "import torchvision\n",
    "import torchvision.transforms as transforms\n",
    "import torch.nn.functional as F\n",
    "from torchsummary import summary\n",
    "import scipy.io as sio\n",
    "from sklearn.model_selection import train_test_split"
   ]
  },
  {
   "cell_type": "markdown",
   "metadata": {},
   "source": [
    "### Loading the data"
   ]
  },
  {
   "cell_type": "code",
   "execution_count": 5,
   "metadata": {},
   "outputs": [
    {
     "name": "stdout",
     "output_type": "stream",
     "text": [
      "Loaded 213658 images\n"
     ]
    }
   ],
   "source": [
    "path_folders = \"/Users/dhirenkinha/Downloads/normalized\"\n",
    "folders_normalized = !ls $path_folders\n",
    "img_height, img_width = 36, 60\n",
    "eye_right_arr, eye_left_arr, gaze_right_arr, gaze_left_arr, pose_right_arr, pose_left_arr = np.empty((1,1,img_height,img_width)),np.empty((1,1,img_height,img_width)),np.empty((1,3)),np.empty((1,3)),np.empty((1,3)),np.empty((1,3))\n",
    "\n",
    "for idx_folder, folder in enumerate(folders_normalized):\n",
    "    path_files = path_folders + folder\n",
    "    files_normalized = !ls $path_files\n",
    "    \n",
    "    for idx_file, file_mat in enumerate(files_normalized):\n",
    "        file_normalized_path = path_files + \"/\" + file_mat\n",
    "        f = sio.loadmat(file_normalized_path)\n",
    "        data = f['data']\n",
    "        right_eye_img = data['right'][0,0]['image'][0,0]\n",
    "        left_eye_img = data['left'][0,0]['image'][0,0]\n",
    "        \n",
    "        right_eye_img = right_eye_img.reshape((right_eye_img.shape[0],1,right_eye_img.shape[1],right_eye_img.shape[2]))\n",
    "        left_eye_img = left_eye_img.reshape((left_eye_img.shape[0],1,left_eye_img.shape[1],left_eye_img.shape[2]))\n",
    "\n",
    "        eye_right_arr = np.vstack((eye_right_arr,right_eye_img))\n",
    "        eye_left_arr = np.vstack((eye_left_arr,left_eye_img))\n",
    "        gaze_right_arr = np.vstack((gaze_right_arr,data['right'][0,0]['gaze'][0,0]))\n",
    "        gaze_left_arr = np.vstack((gaze_left_arr,data['left'][0,0]['gaze'][0,0]))\n",
    "#         pose_right_arr = np.vstack((pose_right_arr,data['right'][0,0]['pose'][0,0]))\n",
    "#         pose_left_arr = np.vstack((pose_left_arr,data['left'][0,0]['pose'][0,0]))\n",
    "\n",
    "eye_right_arr = eye_right_arr[1:]\n",
    "eye_left_arr = eye_left_arr[1:]\n",
    "gaze_right_arr = gaze_right_arr[1:]\n",
    "gaze_left_arr = gaze_left_arr[1:]\n",
    "# pose_right_arr = pose_right_arr[1:]\n",
    "# pose_left_arr = pose_left_arr[1:]\n",
    "\n",
    "print(\"Loaded {} images\".format(len(eye_right_arr)))"
   ]
  },
  {
   "cell_type": "markdown",
   "metadata": {},
   "source": [
    "We have loaded 213658 right eye images and 213658 left eye images. Each eye image is of size 36x60."
   ]
  },
  {
   "cell_type": "code",
   "execution_count": 6,
   "metadata": {},
   "outputs": [
    {
     "data": {
      "text/plain": [
       "(213658, 1, 36, 60)"
      ]
     },
     "execution_count": 6,
     "metadata": {},
     "output_type": "execute_result"
    }
   ],
   "source": [
    "eye_right_arr.shape"
   ]
  },
  {
   "cell_type": "markdown",
   "metadata": {},
   "source": [
    "### Model Description"
   ]
  },
  {
   "cell_type": "markdown",
   "metadata": {},
   "source": [
    " #### Let's build a CNN model to predict x,y,z coordinates of the eye gaze from given image"
   ]
  },
  {
   "cell_type": "markdown",
   "metadata": {},
   "source": [
    "#### Following is the architecture used for this CNN model. Input image is a grayscale image of 1 dimension."
   ]
  },
  {
   "cell_type": "code",
   "execution_count": 7,
   "metadata": {},
   "outputs": [
    {
     "name": "stderr",
     "output_type": "stream",
     "text": [
      "/usr/local/lib/python3.7/site-packages/torch/nn/_reduction.py:42: UserWarning: size_average and reduce args will be deprecated, please use reduction='mean' instead.\n",
      "  warnings.warn(warning.format(ret))\n"
     ]
    }
   ],
   "source": [
    "class EyeGazeModel(torch.nn.Module):\n",
    "    def __init__(self):\n",
    "        super().__init__()\n",
    "        self.conv1 = nn.Conv2d(1, 20, 5)\n",
    "        self.pool1 = nn.MaxPool2d(2, 2)\n",
    "        self.conv2 = nn.Conv2d(20, 50, 5)\n",
    "        self.pool2 = nn.MaxPool2d(2, 2)\n",
    "        self.fc1 = nn.Linear(50*6*12, 500)\n",
    "        self.fc2 = nn.Linear(500, 3)\n",
    "\n",
    "    def forward(self, x):\n",
    "        y1 = self.pool1(F.relu(self.conv1(x)))\n",
    "        y2 = self.pool2(F.relu(self.conv2(y1)))\n",
    "        y3 = y2.view(-1, 50*6*12)\n",
    "        y4 = self.fc1(y3)\n",
    "        y5 = self.fc2(y4)\n",
    "        return y5\n",
    "\n",
    "model = EyeGazeModel().to(torch.double)\n",
    "Loss = nn.MSELoss(size_average=True)\n",
    "optimizer = torch.optim.SGD(model.parameters(), lr=0.1)"
   ]
  },
  {
   "cell_type": "code",
   "execution_count": 69,
   "metadata": {},
   "outputs": [
    {
     "name": "stdout",
     "output_type": "stream",
     "text": [
      "=================================================================\n",
      "Layer (type:depth-idx)                   Param #\n",
      "=================================================================\n",
      "├─Conv2d: 1-1                            520\n",
      "├─MaxPool2d: 1-2                         --\n",
      "├─Conv2d: 1-3                            25,050\n",
      "├─MaxPool2d: 1-4                         --\n",
      "├─Linear: 1-5                            1,800,500\n",
      "├─Linear: 1-6                            1,503\n",
      "=================================================================\n",
      "Total params: 1,827,573\n",
      "Trainable params: 1,827,573\n",
      "Non-trainable params: 0\n",
      "=================================================================\n"
     ]
    },
    {
     "data": {
      "text/plain": [
       "=================================================================\n",
       "Layer (type:depth-idx)                   Param #\n",
       "=================================================================\n",
       "├─Conv2d: 1-1                            520\n",
       "├─MaxPool2d: 1-2                         --\n",
       "├─Conv2d: 1-3                            25,050\n",
       "├─MaxPool2d: 1-4                         --\n",
       "├─Linear: 1-5                            1,800,500\n",
       "├─Linear: 1-6                            1,503\n",
       "=================================================================\n",
       "Total params: 1,827,573\n",
       "Trainable params: 1,827,573\n",
       "Non-trainable params: 0\n",
       "================================================================="
      ]
     },
     "execution_count": 69,
     "metadata": {},
     "output_type": "execute_result"
    }
   ],
   "source": [
    "summary(model)"
   ]
  },
  {
   "cell_type": "markdown",
   "metadata": {},
   "source": [
    "### Training model"
   ]
  },
  {
   "cell_type": "code",
   "execution_count": 17,
   "metadata": {},
   "outputs": [],
   "source": [
    "def train_model(images_train_data, labels_train_data, images_test_data, labels_test_data, epochs=5, batch_size=16):\n",
    "    train_loss_history = []\n",
    "    test_loss_history = []\n",
    "\n",
    "    loss_total = 0\n",
    "    for epoch in range(epochs):\n",
    "        print(f\"Epoch: {epoch+1}/{epochs}\")\n",
    "        loss_total = []\n",
    "        for i in range(0,len(labels_train_data),batch_size) :\n",
    "            images_train = images_train_data[i:i+batch_size]\n",
    "            labels_train = labels_train_data[i:i+batch_size]\n",
    "            optimizer.zero_grad()\n",
    "            yhat = model(images_train)\n",
    "            loss = Loss(yhat,labels_train)\n",
    "            loss_total.append(loss)\n",
    "            loss.backward()\n",
    "            optimizer.step()\n",
    "        train_loss_history.append(torch.mean(torch.DoubleTensor(loss_total)))\n",
    "        print(\"Train loss:\",train_loss_history[-1].item())\n",
    "        loss_total = []\n",
    "        for i in range(0,len(labels_test_data),batch_size) :\n",
    "            images_test = images_test_data[i:i+batch_size]\n",
    "            labels_test = labels_test_data[i:i+batch_size]\n",
    "            with torch.no_grad():\n",
    "                yhat_test = model(images_test)\n",
    "                loss_test = Loss(yhat_test,labels_test)\n",
    "                loss_total.append(loss_test)\n",
    "        test_loss_history.append(torch.mean(torch.DoubleTensor(loss_total)))\n",
    "#         print(\"Train loss:\",train_loss_history[-1].item(),\"Test loss:\",test_loss_history[-1].item()) "
   ]
  },
  {
   "cell_type": "code",
   "execution_count": 8,
   "metadata": {},
   "outputs": [],
   "source": [
    "eye_arr = np.vstack((eye_left_arr/255, eye_right_arr/255))\n",
    "\n",
    "gaze_arr = np.vstack((gaze_left_arr, gaze_right_arr))\n",
    "\n",
    "images_train, images_test, labels_train, labels_test = train_test_split(eye_arr, gaze_arr, test_size=0.2)\n",
    "images_train = torch.DoubleTensor(images_train)\n",
    "labels_train = torch.DoubleTensor(labels_train)\n",
    "images_test = torch.DoubleTensor(images_test)\n",
    "labels_test = torch.DoubleTensor(labels_test)"
   ]
  },
  {
   "cell_type": "code",
   "execution_count": 71,
   "metadata": {},
   "outputs": [
    {
     "name": "stdout",
     "output_type": "stream",
     "text": [
      "torch.Size([341852, 1, 36, 60]) torch.Size([85464, 1, 36, 60])\n"
     ]
    }
   ],
   "source": [
    "print(images_train.size(), images_test.size())"
   ]
  },
  {
   "cell_type": "markdown",
   "metadata": {},
   "source": [
    "We have divided training and test samples in 80% and 20%. Training size is 341852 and test size is 85464."
   ]
  },
  {
   "cell_type": "code",
   "execution_count": 21,
   "metadata": {},
   "outputs": [
    {
     "name": "stdout",
     "output_type": "stream",
     "text": [
      "Epoch: 1/5\n",
      "Train loss: 0.003591651489722652\n",
      "Epoch: 2/5\n",
      "Train loss: 0.0024288570776217168\n",
      "Epoch: 3/5\n",
      "Train loss: 0.002162747031906189\n",
      "Epoch: 4/5\n",
      "Train loss: 0.002017049263681232\n",
      "Epoch: 5/5\n",
      "Train loss: 0.0019204840840662898\n",
      "CPU times: user 2h 25min 17s, sys: 13min 15s, total: 2h 38min 32s\n",
      "Wall time: 1h 17min 53s\n"
     ]
    }
   ],
   "source": [
    "%%time\n",
    "train_model(images_train, labels_train, images_test, labels_test)"
   ]
  },
  {
   "cell_type": "markdown",
   "metadata": {},
   "source": [
    "As we have 341852 images, the first loss itself is very less as we are using batch size of 16 images. Hence, 5 epochs were enough to train the model to get a good enough loss."
   ]
  },
  {
   "cell_type": "code",
   "execution_count": 36,
   "metadata": {},
   "outputs": [
    {
     "data": {
      "image/png": "[encoded data removed]",
      "text/plain": [
       "<Figure size 432x288 with 1 Axes>"
      ]
     },
     "metadata": {
      "needs_background": "light"
     },
     "output_type": "display_data"
    }
   ],
   "source": [
    "plt.plot( range(1,6), train_loss_history, label = \"Train loss\")\n",
    "plt.xlabel(\"Epochs\")\n",
    "plt.ylabel(\"Loss\")\n",
    "plt.legend()\n",
    "plt.show()"
   ]
  },
  {
   "cell_type": "markdown",
   "metadata": {},
   "source": [
    "### Testing the model"
   ]
  },
  {
   "cell_type": "code",
   "execution_count": 27,
   "metadata": {},
   "outputs": [
    {
     "name": "stdout",
     "output_type": "stream",
     "text": [
      "Test loss: 0.0018882664221587114\n"
     ]
    }
   ],
   "source": [
    "batch_size=16\n",
    "test_loss_history = []\n",
    "loss_total = []\n",
    "yhat = np.array([0,0,0])\n",
    "for i in range(0,len(labels_test),batch_size) :\n",
    "    images_test_batch = images_test[i:i+batch_size]\n",
    "    labels_test_batch = labels_test[i:i+batch_size]\n",
    "    with torch.no_grad():\n",
    "        yhat_test = model(images_test_batch)\n",
    "        yhat = np.vstack((yhat, yhat_test.numpy()))\n",
    "        loss_test = Loss(yhat_test,labels_test_batch)\n",
    "        loss_total.append(loss_test)\n",
    "test_loss_history.append(torch.mean(torch.DoubleTensor(loss_total)))\n",
    "print(\"Test loss:\",test_loss_history[-1].item())"
   ]
  },
  {
   "cell_type": "markdown",
   "metadata": {},
   "source": [
    "### Saving the model"
   ]
  },
  {
   "cell_type": "code",
   "execution_count": 22,
   "metadata": {},
   "outputs": [],
   "source": [
    "torch.save(model, 'fully_trained_model.pt')"
   ]
  },
  {
   "cell_type": "markdown",
   "metadata": {},
   "source": [
    "We are saving the trained model and using it later on test images taken from a webcam in a different file."
   ]
  },
  {
   "cell_type": "markdown",
   "metadata": {},
   "source": [
    "Next steps are to test the model on live test images taken from webcam."
   ]
  }
 ],
 "metadata": {
  "kernelspec": {
   "display_name": "Python 3",
   "language": "python",
   "name": "python3"
  },
  "language_info": {
   "codemirror_mode": {
    "name": "ipython",
    "version": 3
   },
   "file_extension": ".py",
   "mimetype": "text/x-python",
   "name": "python",
   "nbconvert_exporter": "python",
   "pygments_lexer": "ipython3",
   "version": "3.8.3"
  }
 },
 "nbformat": 4,
 "nbformat_minor": 2
}
